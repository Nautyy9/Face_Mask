{
  "nbformat": 4,
  "nbformat_minor": 0,
  "metadata": {
    "colab": {
      "provenance": [],
      "authorship_tag": "ABX9TyNZ/wgd6tNlvazaC9w8gPhM",
      "include_colab_link": true
    },
    "kernelspec": {
      "name": "python3",
      "display_name": "Python 3"
    },
    "language_info": {
      "name": "python"
    }
  },
  "cells": [
    {
      "cell_type": "markdown",
      "metadata": {
        "id": "view-in-github",
        "colab_type": "text"
      },
      "source": [
        "<a href=\"https://colab.research.google.com/github/Nautyy9/Face_Mask/blob/main/first_self.ipynb\" target=\"_parent\"><img src=\"https://colab.research.google.com/assets/colab-badge.svg\" alt=\"Open In Colab\"/></a>"
      ]
    },
    {
      "cell_type": "code",
      "execution_count": null,
      "metadata": {
        "id": "OEFQ19Z21PxM"
      },
      "outputs": [],
      "source": [
        "import tensorflow as tf### models\n",
        "import numpy as np### math computations\n",
        "import seaborn as sns### visualizations\n",
        "import matplotlib.pyplot as plt### plotting bar chart\n",
        "import datetime\n",
        "import pathlib\n",
        "import io\n",
        "from datetime import datetime\n",
        "import json\n",
        "import xml.etree.ElementTree as ET\n",
        "import os\n",
        "import shutil\n",
        "import cv2\n",
        "import time\n",
        "import random\n",
        "from PIL import Image\n",
        "import albumentations as A\n",
        "import tensorflow_datasets as tfds\n",
        "from tensorflow.keras.models import Model\n",
        "from tensorflow.keras.layers import Layer\n",
        "from tensorflow.keras.layers import (GlobalAveragePooling2D, Activation, MaxPooling2D, Add, Conv2D, MaxPool2D, Dense,\n",
        "                                     Flatten, InputLayer, BatchNormalization, Input, Embedding, Permute,\n",
        "                                     Dropout, RandomFlip, RandomRotation, LayerNormalization, MultiHeadAttention,\n",
        "                                     RandomContrast, Rescaling, Resizing, Reshape, LeakyReLU)\n",
        "from tensorflow.keras.losses import BinaryCrossentropy,CategoricalCrossentropy, SparseCategoricalCrossentropy\n",
        "from tensorflow.keras.metrics import Accuracy,TopKCategoricalAccuracy, CategoricalAccuracy, SparseCategoricalAccuracy\n",
        "from tensorflow.keras.optimizers import Adam\n",
        "from tensorflow.keras.callbacks import (Callback, CSVLogger, EarlyStopping, LearningRateScheduler,\n",
        "                                        ModelCheckpoint, ReduceLROnPlateau)\n",
        "from tensorflow.keras.regularizers import L2, L1\n",
        "from tensorflow.keras.initializers import RandomNormal"
      ]
    },
    {
      "cell_type": "code",
      "source": [
        "!pip install -q kaggle\n",
        "!mkdir ~/.kaggle\n",
        "!cp kaggle.json ~/.kaggle/\n",
        "!chmod 600 /root/.kaggle/kaggle.json"
      ],
      "metadata": {
        "id": "PkcuhpEI6CM0",
        "colab": {
          "base_uri": "https://localhost:8080/"
        },
        "outputId": "cbd25ba2-1c6b-4142-ad93-6e47e535fbf3"
      },
      "execution_count": null,
      "outputs": [
        {
          "output_type": "stream",
          "name": "stdout",
          "text": [
            "mkdir: cannot create directory ‘/root/.kaggle’: File exists\n"
          ]
        }
      ]
    },
    {
      "cell_type": "code",
      "source": [
        "!kaggle datasets download -d andrewmvd/face-mask-detection"
      ],
      "metadata": {
        "colab": {
          "base_uri": "https://localhost:8080/"
        },
        "id": "-TUVX9_t3q5J",
        "outputId": "6e6c78fa-2c19-4774-a077-7ca3d0272afc"
      },
      "execution_count": null,
      "outputs": [
        {
          "output_type": "stream",
          "name": "stdout",
          "text": [
            "face-mask-detection.zip: Skipping, found more recently modified local copy (use --force to force download)\n"
          ]
        }
      ]
    },
    {
      "cell_type": "code",
      "source": [
        "!unzip  \"/content/face-mask-detection.zip\" -d \"/content/Dataset/\""
      ],
      "metadata": {
        "id": "NMlKQU8_3tVQ",
        "colab": {
          "base_uri": "https://localhost:8080/"
        },
        "outputId": "51bccefc-12f3-4083-91bc-92706b1f6610"
      },
      "execution_count": null,
      "outputs": [
        {
          "output_type": "stream",
          "name": "stdout",
          "text": [
            "Archive:  /content/face-mask-detection.zip\n",
            "replace /content/Dataset/annotations/maksssksksss0.xml? [y]es, [n]o, [A]ll, [N]one, [r]ename: "
          ]
        }
      ]
    },
    {
      "cell_type": "markdown",
      "source": [
        "# Creating dir\n"
      ],
      "metadata": {
        "id": "Ck6jQ3_G6U2x"
      }
    },
    {
      "cell_type": "code",
      "source": [
        "\n",
        "# img_dir = \"/content/Dataset/images\"\n",
        "# ann_dir = \"/content/Dataset/annotations\"\n",
        "\n",
        "\n",
        "# train_ratio=0.8\n",
        "# val_ratio=0.1\n",
        "# test_ratio=0.1\n",
        "\n",
        "\n",
        "# img_data = os.listdir(img_dir)\n",
        "# ann_data = os.listdir(ann_dir)\n",
        "# # print(img_data, ann_data)\n",
        "\n",
        "# train_dir = os.path.join(img_dir, \"train\")\n",
        "# val_dir = os.path.join(img_dir, \"val\")\n",
        "# test_dir = os.path.join(img_dir, \"test\")\n",
        "\n",
        "# os.makedirs(train_dir, exist_ok=True)\n",
        "# os.makedirs(val_dir, exist_ok=True)\n",
        "# os.makedirs(test_dir, exist_ok=True)\n",
        "\n",
        "\n",
        "# num_images= len(img_data)\n",
        "\n",
        "# train_img_data = img_data[:int(train_ratio * num_images)]\n",
        "# val_img_data = img_data[int(train_ratio * num_images):int((train_ratio + val_ratio) * num_images)]\n",
        "# test_img_data = img_data[int((train_ratio + val_ratio) * num_images):]\n",
        "\n",
        "# # train_img_data, val_img_data = train_test_split(img_data , test_size=val_ratio)\n",
        "# # train_img_data , test_img_data = train_test_split(train_img_data, test_size = test_ratio/(1-train_ratio))\n",
        "\n",
        "\n",
        "# for filename in train_img_data:\n",
        "#     src_path = os.path.join(img_dir, filename)\n",
        "#     dst_path = os.path.join(train_dir, filename)\n",
        "#     shutil.copy(src_path, dst_path)\n",
        "\n",
        "# for filename in val_img_data:\n",
        "#     src_path = os.path.join(img_dir, filename)\n",
        "#     dst_path = os.path.join(val_dir, filename)\n",
        "#     shutil.copy(src_path, dst_path)\n",
        "# # for i, data in enumerate(img_data):\n",
        "# for filename in test_img_data:\n",
        "#     src_path = os.path.join(img_dir, filename)\n",
        "#     dst_path = os.path.join(test_dir, filename)\n",
        "#     shutil.copy(src_path, dst_path)\n",
        "\n",
        "# for filename in img_data:\n",
        "#   file_path = os.path.join(img_dir, filename)\n",
        "#   os.remove(file_path)\n"
      ],
      "metadata": {
        "id": "JB943835-0_5"
      },
      "execution_count": null,
      "outputs": []
    },
    {
      "cell_type": "code",
      "source": [
        "# train_dir = os.path.join(ann_dir, \"train\")\n",
        "# val_dir = os.path.join(ann_dir, \"val\")\n",
        "# test_dir = os.path.join(ann_dir, \"test\")\n",
        "\n",
        "# os.makedirs(train_dir, exist_ok=True)\n",
        "# os.makedirs(val_dir, exist_ok=True)\n",
        "# os.makedirs(test_dir, exist_ok=True)\n",
        "\n",
        "# num_ann= len(ann_data)\n",
        "\n",
        "# train_ann_data = ann_data[:int(train_ratio * num_ann)]\n",
        "# val_ann_data = ann_data[int(train_ratio * num_ann):int((train_ratio + val_ratio) * num_ann)]\n",
        "# test_ann_data = ann_data[int((train_ratio + val_ratio) * num_ann):]\n",
        "\n",
        "# # train_ann_data, val_ann_data = train_test_split(ann_data , test_size=val_ratio)\n",
        "# # train_ann_data , test_ann_data = train_test_split(train_ann_data, test_size = test_ratio/(1-train_ratio))\n",
        "\n",
        "\n",
        "\n",
        "\n",
        "# for filename in train_ann_data:\n",
        "#     src_path = os.path.join(ann_dir, filename)\n",
        "#     dst_path = os.path.join(train_dir, filename)\n",
        "#     shutil.copy(src_path, dst_path)\n",
        "\n",
        "# for filename in val_ann_data:\n",
        "#     src_path = os.path.join(ann_dir, filename)\n",
        "#     dst_path = os.path.join(val_dir, filename)\n",
        "#     shutil.copy(src_path, dst_path)\n",
        "# # for i, data in enumerate(ann_data):\n",
        "# for filename in test_ann_data:\n",
        "#     src_path = os.path.join(ann_dir, filename)\n",
        "#     dst_path = os.path.join(test_dir, filename)\n",
        "#     shutil.copy(src_path, dst_path)\n",
        "\n",
        "# for filename in ann_data:\n",
        "#   file_path = os.path.join(ann_dir, filename)\n",
        "#   os.remove(file_path)\n"
      ],
      "metadata": {
        "id": "510zrcZeG3-T"
      },
      "execution_count": null,
      "outputs": []
    },
    {
      "cell_type": "markdown",
      "source": [
        "# Preparing Dataset"
      ],
      "metadata": {
        "id": "XzrujxX76idP"
      }
    },
    {
      "cell_type": "code",
      "source": [
        "!mkdir /content/Dataset/val_images/\n",
        "!mkdir /content/Dataset/val_annotations/"
      ],
      "metadata": {
        "id": "ddlF7tu06lDv",
        "colab": {
          "base_uri": "https://localhost:8080/"
        },
        "outputId": "ee3cb4e6-00dc-4681-d5c3-4f37e85afd3b"
      },
      "execution_count": null,
      "outputs": [
        {
          "output_type": "stream",
          "name": "stdout",
          "text": [
            "mkdir: cannot create directory ‘/content/Dataset/val_images/’: File exists\n",
            "mkdir: cannot create directory ‘/content/Dataset/val_annotations/’: File exists\n"
          ]
        }
      ]
    },
    {
      "cell_type": "code",
      "source": [
        "train_images = '/content/Dataset/images/'\n",
        "train_annotations = '/content/Dataset/annotations/'\n",
        "\n",
        "val_images = '/content/Dataset/val_images/'\n",
        "val_annotations = '/content/Dataset/val_annotations/'\n"
      ],
      "metadata": {
        "id": "DTaozols7Ps-"
      },
      "execution_count": null,
      "outputs": []
    },
    {
      "cell_type": "code",
      "source": [
        "val_list = [\"maksssksksss715.png\",\"maksssksksss588.png\",\"maksssksksss45.png\",\"maksssksksss566.png\",\"maksssksksss195.png\",\n",
        "            \"maksssksksss301.png\",\"maksssksksss350.png\",\"maksssksksss591.png\",\"maksssksksss468.png\",\"maksssksksss624.png\",\n",
        "            \"maksssksksss275.png\",\"maksssksksss561.png\",\"maksssksksss671.png\",\"maksssksksss665.png\",\"maksssksksss667.png\",\n",
        "            \"maksssksksss499.png\",\"maksssksksss390.png\",\"maksssksksss197.png\",\"maksssksksss599.png\",\"maksssksksss44.png\",\n",
        "            \"maksssksksss398.png\",\"maksssksksss413.png\",\"maksssksksss349.png\",\"maksssksksss242.png\",\"maksssksksss832.png\",\n",
        "            \"maksssksksss336.png\",\"maksssksksss519.png\",\"maksssksksss691.png\",\"maksssksksss725.png\",\"maksssksksss80.png\",\n",
        "            \"maksssksksss359.png\",\"maksssksksss663.png\",\"maksssksksss659.png\",\"maksssksksss754.png\",\"maksssksksss325.png\",\n",
        "            \"maksssksksss626.png\",\"maksssksksss246.png\",\"maksssksksss452.png\",\"maksssksksss511.png\",\"maksssksksss179.png\",\n",
        "            \"maksssksksss30.png\",\"maksssksksss655.png\",\"maksssksksss745.png\",\"maksssksksss788.png\",\"maksssksksss680.png\",\n",
        "            \"maksssksksss84.png\",\"maksssksksss411.png\",\"maksssksksss87.png\",\"maksssksksss331.png\",\"maksssksksss343.png\",\"maksssksksss168.png\",]\n",
        "# print(len(val_list))"
      ],
      "metadata": {
        "id": "bMfEjp1P-Ti4"
      },
      "execution_count": null,
      "outputs": []
    },
    {
      "cell_type": "code",
      "source": [
        "# here name is the name of image specified in the list , to which we want to remove .png and add .xml hence we end up same file in val_images and val_annotations\n",
        "for name in val_list:\n",
        "  # moving xml files\n",
        "  shutil.move(train_annotations+name[:-3]+\"xml\", val_annotations+name[:-3]+\"xml\")"
      ],
      "metadata": {
        "id": "GxHxr3e7Ggd1",
        "colab": {
          "base_uri": "https://localhost:8080/",
          "height": 460
        },
        "outputId": "82a6f520-5dff-4e0f-9b5d-7e064dc27459"
      },
      "execution_count": null,
      "outputs": [
        {
          "output_type": "error",
          "ename": "FileNotFoundError",
          "evalue": "ignored",
          "traceback": [
            "\u001b[0;31m---------------------------------------------------------------------------\u001b[0m",
            "\u001b[0;31mFileNotFoundError\u001b[0m                         Traceback (most recent call last)",
            "\u001b[0;32m/usr/lib/python3.10/shutil.py\u001b[0m in \u001b[0;36mmove\u001b[0;34m(src, dst, copy_function)\u001b[0m\n\u001b[1;32m    815\u001b[0m     \u001b[0;32mtry\u001b[0m\u001b[0;34m:\u001b[0m\u001b[0;34m\u001b[0m\u001b[0;34m\u001b[0m\u001b[0m\n\u001b[0;32m--> 816\u001b[0;31m         \u001b[0mos\u001b[0m\u001b[0;34m.\u001b[0m\u001b[0mrename\u001b[0m\u001b[0;34m(\u001b[0m\u001b[0msrc\u001b[0m\u001b[0;34m,\u001b[0m \u001b[0mreal_dst\u001b[0m\u001b[0;34m)\u001b[0m\u001b[0;34m\u001b[0m\u001b[0;34m\u001b[0m\u001b[0m\n\u001b[0m\u001b[1;32m    817\u001b[0m     \u001b[0;32mexcept\u001b[0m \u001b[0mOSError\u001b[0m\u001b[0;34m:\u001b[0m\u001b[0;34m\u001b[0m\u001b[0;34m\u001b[0m\u001b[0m\n",
            "\u001b[0;31mFileNotFoundError\u001b[0m: [Errno 2] No such file or directory: '/content/Dataset/annotations/maksssksksss715.xml' -> '/content/Dataset/val_annotations/maksssksksss715.xml'",
            "\nDuring handling of the above exception, another exception occurred:\n",
            "\u001b[0;31mFileNotFoundError\u001b[0m                         Traceback (most recent call last)",
            "\u001b[0;32m<ipython-input-566-6fc9db096823>\u001b[0m in \u001b[0;36m<cell line: 2>\u001b[0;34m()\u001b[0m\n\u001b[1;32m      2\u001b[0m \u001b[0;32mfor\u001b[0m \u001b[0mname\u001b[0m \u001b[0;32min\u001b[0m \u001b[0mval_list\u001b[0m\u001b[0;34m:\u001b[0m\u001b[0;34m\u001b[0m\u001b[0;34m\u001b[0m\u001b[0m\n\u001b[1;32m      3\u001b[0m   \u001b[0;31m# moving xml files\u001b[0m\u001b[0;34m\u001b[0m\u001b[0;34m\u001b[0m\u001b[0m\n\u001b[0;32m----> 4\u001b[0;31m   \u001b[0mshutil\u001b[0m\u001b[0;34m.\u001b[0m\u001b[0mmove\u001b[0m\u001b[0;34m(\u001b[0m\u001b[0mtrain_annotations\u001b[0m\u001b[0;34m+\u001b[0m\u001b[0mname\u001b[0m\u001b[0;34m[\u001b[0m\u001b[0;34m:\u001b[0m\u001b[0;34m-\u001b[0m\u001b[0;36m3\u001b[0m\u001b[0;34m]\u001b[0m\u001b[0;34m+\u001b[0m\u001b[0;34m\"xml\"\u001b[0m\u001b[0;34m,\u001b[0m \u001b[0mval_annotations\u001b[0m\u001b[0;34m+\u001b[0m\u001b[0mname\u001b[0m\u001b[0;34m[\u001b[0m\u001b[0;34m:\u001b[0m\u001b[0;34m-\u001b[0m\u001b[0;36m3\u001b[0m\u001b[0;34m]\u001b[0m\u001b[0;34m+\u001b[0m\u001b[0;34m\"xml\"\u001b[0m\u001b[0;34m)\u001b[0m\u001b[0;34m\u001b[0m\u001b[0;34m\u001b[0m\u001b[0m\n\u001b[0m",
            "\u001b[0;32m/usr/lib/python3.10/shutil.py\u001b[0m in \u001b[0;36mmove\u001b[0;34m(src, dst, copy_function)\u001b[0m\n\u001b[1;32m    834\u001b[0m             \u001b[0mrmtree\u001b[0m\u001b[0;34m(\u001b[0m\u001b[0msrc\u001b[0m\u001b[0;34m)\u001b[0m\u001b[0;34m\u001b[0m\u001b[0;34m\u001b[0m\u001b[0m\n\u001b[1;32m    835\u001b[0m         \u001b[0;32melse\u001b[0m\u001b[0;34m:\u001b[0m\u001b[0;34m\u001b[0m\u001b[0;34m\u001b[0m\u001b[0m\n\u001b[0;32m--> 836\u001b[0;31m             \u001b[0mcopy_function\u001b[0m\u001b[0;34m(\u001b[0m\u001b[0msrc\u001b[0m\u001b[0;34m,\u001b[0m \u001b[0mreal_dst\u001b[0m\u001b[0;34m)\u001b[0m\u001b[0;34m\u001b[0m\u001b[0;34m\u001b[0m\u001b[0m\n\u001b[0m\u001b[1;32m    837\u001b[0m             \u001b[0mos\u001b[0m\u001b[0;34m.\u001b[0m\u001b[0munlink\u001b[0m\u001b[0;34m(\u001b[0m\u001b[0msrc\u001b[0m\u001b[0;34m)\u001b[0m\u001b[0;34m\u001b[0m\u001b[0;34m\u001b[0m\u001b[0m\n\u001b[1;32m    838\u001b[0m     \u001b[0;32mreturn\u001b[0m \u001b[0mreal_dst\u001b[0m\u001b[0;34m\u001b[0m\u001b[0;34m\u001b[0m\u001b[0m\n",
            "\u001b[0;32m/usr/lib/python3.10/shutil.py\u001b[0m in \u001b[0;36mcopy2\u001b[0;34m(src, dst, follow_symlinks)\u001b[0m\n\u001b[1;32m    432\u001b[0m     \u001b[0;32mif\u001b[0m \u001b[0mos\u001b[0m\u001b[0;34m.\u001b[0m\u001b[0mpath\u001b[0m\u001b[0;34m.\u001b[0m\u001b[0misdir\u001b[0m\u001b[0;34m(\u001b[0m\u001b[0mdst\u001b[0m\u001b[0;34m)\u001b[0m\u001b[0;34m:\u001b[0m\u001b[0;34m\u001b[0m\u001b[0;34m\u001b[0m\u001b[0m\n\u001b[1;32m    433\u001b[0m         \u001b[0mdst\u001b[0m \u001b[0;34m=\u001b[0m \u001b[0mos\u001b[0m\u001b[0;34m.\u001b[0m\u001b[0mpath\u001b[0m\u001b[0;34m.\u001b[0m\u001b[0mjoin\u001b[0m\u001b[0;34m(\u001b[0m\u001b[0mdst\u001b[0m\u001b[0;34m,\u001b[0m \u001b[0mos\u001b[0m\u001b[0;34m.\u001b[0m\u001b[0mpath\u001b[0m\u001b[0;34m.\u001b[0m\u001b[0mbasename\u001b[0m\u001b[0;34m(\u001b[0m\u001b[0msrc\u001b[0m\u001b[0;34m)\u001b[0m\u001b[0;34m)\u001b[0m\u001b[0;34m\u001b[0m\u001b[0;34m\u001b[0m\u001b[0m\n\u001b[0;32m--> 434\u001b[0;31m     \u001b[0mcopyfile\u001b[0m\u001b[0;34m(\u001b[0m\u001b[0msrc\u001b[0m\u001b[0;34m,\u001b[0m \u001b[0mdst\u001b[0m\u001b[0;34m,\u001b[0m \u001b[0mfollow_symlinks\u001b[0m\u001b[0;34m=\u001b[0m\u001b[0mfollow_symlinks\u001b[0m\u001b[0;34m)\u001b[0m\u001b[0;34m\u001b[0m\u001b[0;34m\u001b[0m\u001b[0m\n\u001b[0m\u001b[1;32m    435\u001b[0m     \u001b[0mcopystat\u001b[0m\u001b[0;34m(\u001b[0m\u001b[0msrc\u001b[0m\u001b[0;34m,\u001b[0m \u001b[0mdst\u001b[0m\u001b[0;34m,\u001b[0m \u001b[0mfollow_symlinks\u001b[0m\u001b[0;34m=\u001b[0m\u001b[0mfollow_symlinks\u001b[0m\u001b[0;34m)\u001b[0m\u001b[0;34m\u001b[0m\u001b[0;34m\u001b[0m\u001b[0m\n\u001b[1;32m    436\u001b[0m     \u001b[0;32mreturn\u001b[0m \u001b[0mdst\u001b[0m\u001b[0;34m\u001b[0m\u001b[0;34m\u001b[0m\u001b[0m\n",
            "\u001b[0;32m/usr/lib/python3.10/shutil.py\u001b[0m in \u001b[0;36mcopyfile\u001b[0;34m(src, dst, follow_symlinks)\u001b[0m\n\u001b[1;32m    252\u001b[0m         \u001b[0mos\u001b[0m\u001b[0;34m.\u001b[0m\u001b[0msymlink\u001b[0m\u001b[0;34m(\u001b[0m\u001b[0mos\u001b[0m\u001b[0;34m.\u001b[0m\u001b[0mreadlink\u001b[0m\u001b[0;34m(\u001b[0m\u001b[0msrc\u001b[0m\u001b[0;34m)\u001b[0m\u001b[0;34m,\u001b[0m \u001b[0mdst\u001b[0m\u001b[0;34m)\u001b[0m\u001b[0;34m\u001b[0m\u001b[0;34m\u001b[0m\u001b[0m\n\u001b[1;32m    253\u001b[0m     \u001b[0;32melse\u001b[0m\u001b[0;34m:\u001b[0m\u001b[0;34m\u001b[0m\u001b[0;34m\u001b[0m\u001b[0m\n\u001b[0;32m--> 254\u001b[0;31m         \u001b[0;32mwith\u001b[0m \u001b[0mopen\u001b[0m\u001b[0;34m(\u001b[0m\u001b[0msrc\u001b[0m\u001b[0;34m,\u001b[0m \u001b[0;34m'rb'\u001b[0m\u001b[0;34m)\u001b[0m \u001b[0;32mas\u001b[0m \u001b[0mfsrc\u001b[0m\u001b[0;34m:\u001b[0m\u001b[0;34m\u001b[0m\u001b[0;34m\u001b[0m\u001b[0m\n\u001b[0m\u001b[1;32m    255\u001b[0m             \u001b[0;32mtry\u001b[0m\u001b[0;34m:\u001b[0m\u001b[0;34m\u001b[0m\u001b[0;34m\u001b[0m\u001b[0m\n\u001b[1;32m    256\u001b[0m                 \u001b[0;32mwith\u001b[0m \u001b[0mopen\u001b[0m\u001b[0;34m(\u001b[0m\u001b[0mdst\u001b[0m\u001b[0;34m,\u001b[0m \u001b[0;34m'wb'\u001b[0m\u001b[0;34m)\u001b[0m \u001b[0;32mas\u001b[0m \u001b[0mfdst\u001b[0m\u001b[0;34m:\u001b[0m\u001b[0;34m\u001b[0m\u001b[0;34m\u001b[0m\u001b[0m\n",
            "\u001b[0;31mFileNotFoundError\u001b[0m: [Errno 2] No such file or directory: '/content/Dataset/annotations/maksssksksss715.xml'"
          ]
        }
      ]
    },
    {
      "cell_type": "code",
      "source": [
        "# moving png files to val_images\n",
        "for name in val_list:\n",
        "  shutil.move(train_images+name, val_images+name)"
      ],
      "metadata": {
        "id": "WLEp_tGkGnXc"
      },
      "execution_count": null,
      "outputs": []
    },
    {
      "cell_type": "markdown",
      "source": [
        "### Config List"
      ],
      "metadata": {
        "id": "ydtkQastADN7"
      }
    },
    {
      "cell_type": "code",
      "source": [
        "class_names = [\"without_mask\", \"with_mask\", \"mask_weared_incorrect\"]\n",
        "\n",
        "config  = {\n",
        "    \"lr\" : 10e-3,\n",
        "    'epochs': 60,\n",
        "    \"batch_size\": 32,\n",
        "    \"im_size\": 256,\n",
        "    \"regularization_rate\": 0.0,\n",
        "    \"filters\": 6,\n",
        "    \"kernel_size\" : 3,\n",
        "    \"strides\": 1,\n",
        "    \"pool_size\": 2,\n",
        "    \"dense_1\" : 64,\n",
        "    \"dense_2\": 128,\n",
        "    # PATCH IS FOR TRANSFORMERS\n",
        "    \"patch_size\" : 16,\n",
        "    # projected size to which we convert our images to , means the number of dimensions to which we want to convert our image within transformer layer and then we also revert back to original dimension say 256\n",
        "    'proj_dim': 768 ,\n",
        "    \"classes\": 3,\n",
        "    # B=bounding box\n",
        "    \"B\": 2,\n",
        "    \"H\": 224,\n",
        "    \"W\": 224,\n",
        "    \"split_size\" : 224//32,\n",
        "}\n",
        "NUM_FILTERS=512\n",
        "OUTPUT_DIM=config[\"classes\"]+5*config[\"B\"]"
      ],
      "metadata": {
        "id": "d5zrC-D-AGva"
      },
      "execution_count": null,
      "outputs": []
    },
    {
      "cell_type": "code",
      "source": [
        "im_paths = []\n",
        "xml_paths = []\n",
        "\n",
        "val_im_paths =[]\n",
        "val_xml_paths = []\n",
        "\n",
        "\n",
        "# pri0nt(val_images, val_annotations)\n",
        "# print(train_images, train_annotations)\n",
        "\n",
        "\n",
        "for i in os.listdir(train_annotations):\n",
        "  im_paths.append(train_images+i[:-3]+'png')\n",
        "  xml_paths.append(train_annotations+i)\n",
        "\n",
        "for i in os.listdir(val_annotations):\n",
        "  val_im_paths.append(val_images+i[:-3]+\"png\")\n",
        "  val_xml_paths.append(val_annotations + i)\n",
        "\n",
        "# print(len(im_paths),len(xml_paths))\n",
        "# print(len(val_im_paths),len(val_xml_paths))"
      ],
      "metadata": {
        "id": "bd_XlG11RH0E"
      },
      "execution_count": null,
      "outputs": []
    },
    {
      "cell_type": "code",
      "source": [
        "# creating dataset from python list\n",
        "train_dataset = tf.data.Dataset.from_tensor_slices((im_paths, xml_paths))\n",
        "val_dataset = tf.data.Dataset.from_tensor_slices((val_im_paths, val_xml_paths))\n"
      ],
      "metadata": {
        "id": "V4JspVK1TC7B"
      },
      "execution_count": null,
      "outputs": []
    },
    {
      "cell_type": "code",
      "source": [
        "# for i in val_dataset.take(1):\n",
        "  # print(i)\n",
        "# print(list(train_dataset.take(1).as_numpy_iterator()))\n",
        "# train_dataset"
      ],
      "metadata": {
        "id": "CIoDhOT9TpPy"
      },
      "execution_count": null,
      "outputs": []
    },
    {
      "cell_type": "code",
      "source": [
        "# print(list(val_dataset.take(1).as_numpy_iterator()))\n",
        "# val_dataset"
      ],
      "metadata": {
        "id": "GuNSrEiYTrtr"
      },
      "execution_count": null,
      "outputs": []
    },
    {
      "cell_type": "code",
      "source": [
        "\n",
        "# t =  os.listdir(train_images)\n",
        "\n",
        "# for images in t:\n",
        "#   print(f\"{images}\")"
      ],
      "metadata": {
        "id": "MoMrG8bx8INw"
      },
      "execution_count": null,
      "outputs": []
    },
    {
      "cell_type": "markdown",
      "source": [
        "# Processing XML"
      ],
      "metadata": {
        "id": "Y_VpMjfmHsfX"
      }
    },
    {
      "cell_type": "code",
      "source": [
        "import xml.etree.ElementTree as ET\n",
        "def process_xml(filename):\n",
        "  tree = ET.parse(filename)\n",
        "  root = tree.getroot()\n",
        "  # root ke andar 5 tag (folder, filename, size, segmented, object--> iske andar bounding box)\n",
        "  size = root.find('size')\n",
        "  # aur size ke andar 3 tag (h,w,depth)\n",
        "  height = float(size.find('height').text)\n",
        "  width = float(size.find('width').text)\n",
        "\n",
        "  bounding_boxes = []\n",
        "  for roots in root.findall(\"object\"):\n",
        "    for bnd_bx in roots.iter('bndbox'):\n",
        "        xmin = (float(bnd_bx.find(\"xmin\").text))\n",
        "        ymin = (float(bnd_bx.find(\"ymin\").text))\n",
        "        xmax = (float(bnd_bx.find(\"xmax\").text))\n",
        "        ymax = (float(bnd_bx.find(\"ymax\").text))\n",
        "        break\n",
        "    name = roots.find(\"name\").text\n",
        "    class_dict={class_names[i]:i for i in range(len(class_names))}\n",
        "    # print(lass_dict)\n",
        "    x_center = (xmin+xmax)/(2.0*width)\n",
        "    y_center = (ymin + ymax)/(2.0*height)\n",
        "    box_w = (xmax-xmin)/width\n",
        "    box_h = (ymax-ymin)/height\n",
        "\n",
        "    bounding_box = [x_center , y_center , box_w, box_h, class_dict[name]]\n",
        "    bounding_box = tf.constant(bounding_box, tf.float32)\n",
        "    bounding_box =  tf.where((bounding_box < 1.0), bounding_box , tf.constant(1.0))\n",
        "\n",
        "    bounding_boxes.append(bounding_box)\n",
        "  return tf.convert_to_tensor(bounding_boxes)\n",
        "\n",
        "  # for child in root:\n",
        "    # print(child.tag, \"i\", child.attrib ,\"j\", child.text)\n"
      ],
      "metadata": {
        "id": "BZ2baQRAHynI"
      },
      "execution_count": null,
      "outputs": []
    },
    {
      "cell_type": "code",
      "source": [
        "process_xml('/content/Dataset/annotations/maksssksksss207.xml')"
      ],
      "metadata": {
        "colab": {
          "base_uri": "https://localhost:8080/"
        },
        "id": "HqZVd-UMIWbQ",
        "outputId": "12a5a3b1-bf9e-4ed3-b931-f79abe31fdc3"
      },
      "execution_count": null,
      "outputs": [
        {
          "output_type": "execute_result",
          "data": {
            "text/plain": [
              "<tf.Tensor: shape=(4, 5), dtype=float32, numpy=\n",
              "array([[0.10625   , 0.35580525, 0.0425    , 0.05992509, 1.        ],\n",
              "       [0.4725    , 0.43258426, 0.11      , 0.1835206 , 1.        ],\n",
              "       [0.74625   , 0.411985  , 0.0875    , 0.11235955, 1.        ],\n",
              "       [0.93375   , 0.48314607, 0.1325    , 0.31460676, 1.        ]],\n",
              "      dtype=float32)>"
            ]
          },
          "metadata": {},
          "execution_count": 924
        }
      ]
    },
    {
      "cell_type": "code",
      "source": [
        "def generate_output(bounding_boxes):\n",
        "  # here we are getting each patch , with width and height as 256//32 = 7 (for 7X7 patch size)   where we say 32 is size of each pathc and  prediction(lambda*(center_w, center_h, w, h) = 5 + 3 classes) 5+3 =8 CLASSES  where 3 is for output class and 5 default\n",
        "\n",
        "  output_label = np.zeros((config[\"split_size\"], config[\"split_size\"], config[\"classes\"]+5))\n",
        "\n",
        "  # to get point for each patch we've to multiply with 7 for width and 7 for height then we do mudulo of 1 to get the exact position of point in a patch\n",
        "  for b in range(len(bounding_boxes)):\n",
        "    grid_x = bounding_boxes[...,b, 0]*config[\"split_size\"]\n",
        "    grid_y = bounding_boxes[...,b, 1]*config[\"split_size\"]\n",
        "    # print(\"grid_x\", grid_x%1,\"grid_y\", grid_y%1)\n",
        "\n",
        "    # integer value of i and j will make them according to thier row and column numbers\n",
        "    i = int(grid_x)\n",
        "    j = int(grid_y)\n",
        "\n",
        "    # print(output_label.shape)\n",
        "    # print(i,j)\n",
        "    output_label[i,j,0:5] = [1., grid_x%1, grid_y%1, bounding_boxes[...,b,2], bounding_boxes[..., b, 3]]\n",
        "    output_label[i,j,5+int(bounding_boxes[...,b,4])] = 1.\n",
        "  return tf.convert_to_tensor(output_label, tf.float32)\n"
      ],
      "metadata": {
        "id": "Tmro-yITYjqi"
      },
      "execution_count": null,
      "outputs": []
    },
    {
      "cell_type": "code",
      "source": [
        "generate_output(process_xml('/content/Dataset/annotations/maksssksksss824.xml'))"
      ],
      "metadata": {
        "colab": {
          "base_uri": "https://localhost:8080/"
        },
        "id": "X8qtU4tqd3A9",
        "outputId": "f42ff5de-c3e9-456d-a87a-c49b516f9a62"
      },
      "execution_count": null,
      "outputs": [
        {
          "output_type": "execute_result",
          "data": {
            "text/plain": [
              "<tf.Tensor: shape=(7, 7, 8), dtype=float32, numpy=\n",
              "array([[[0.        , 0.        , 0.        , 0.        , 0.        ,\n",
              "         0.        , 0.        , 0.        ],\n",
              "        [0.        , 0.        , 0.        , 0.        , 0.        ,\n",
              "         0.        , 0.        , 0.        ],\n",
              "        [0.        , 0.        , 0.        , 0.        , 0.        ,\n",
              "         0.        , 0.        , 0.        ],\n",
              "        [1.        , 0.09625   , 0.264045  , 0.0225    , 0.06367041,\n",
              "         0.        , 1.        , 0.        ],\n",
              "        [0.        , 0.        , 0.        , 0.        , 0.        ,\n",
              "         0.        , 0.        , 0.        ],\n",
              "        [0.        , 0.        , 0.        , 0.        , 0.        ,\n",
              "         0.        , 0.        , 0.        ],\n",
              "        [0.        , 0.        , 0.        , 0.        , 0.        ,\n",
              "         0.        , 0.        , 0.        ]],\n",
              "\n",
              "       [[0.        , 0.        , 0.        , 0.        , 0.        ,\n",
              "         0.        , 0.        , 0.        ],\n",
              "        [0.        , 0.        , 0.        , 0.        , 0.        ,\n",
              "         0.        , 0.        , 0.        ],\n",
              "        [0.        , 0.        , 0.        , 0.        , 0.        ,\n",
              "         0.        , 0.        , 0.        ],\n",
              "        [1.        , 0.96000004, 0.55243444, 0.045     , 0.07865169,\n",
              "         0.        , 1.        , 0.        ],\n",
              "        [0.        , 0.        , 0.        , 0.        , 0.        ,\n",
              "         0.        , 0.        , 0.        ],\n",
              "        [0.        , 0.        , 0.        , 0.        , 0.        ,\n",
              "         0.        , 0.        , 0.        ],\n",
              "        [0.        , 0.        , 0.        , 0.        , 0.        ,\n",
              "         0.        , 0.        , 0.        ]],\n",
              "\n",
              "       [[0.        , 0.        , 0.        , 0.        , 0.        ,\n",
              "         0.        , 0.        , 0.        ],\n",
              "        [0.        , 0.        , 0.        , 0.        , 0.        ,\n",
              "         0.        , 0.        , 0.        ],\n",
              "        [0.        , 0.        , 0.        , 0.        , 0.        ,\n",
              "         0.        , 0.        , 0.        ],\n",
              "        [0.        , 0.        , 0.        , 0.        , 0.        ,\n",
              "         0.        , 0.        , 0.        ],\n",
              "        [0.        , 0.        , 0.        , 0.        , 0.        ,\n",
              "         0.        , 0.        , 0.        ],\n",
              "        [0.        , 0.        , 0.        , 0.        , 0.        ,\n",
              "         0.        , 0.        , 0.        ],\n",
              "        [0.        , 0.        , 0.        , 0.        , 0.        ,\n",
              "         0.        , 0.        , 0.        ]],\n",
              "\n",
              "       [[0.        , 0.        , 0.        , 0.        , 0.        ,\n",
              "         0.        , 0.        , 0.        ],\n",
              "        [0.        , 0.        , 0.        , 0.        , 0.        ,\n",
              "         0.        , 0.        , 0.        ],\n",
              "        [0.        , 0.        , 0.        , 0.        , 0.        ,\n",
              "         0.        , 0.        , 0.        ],\n",
              "        [1.        , 0.6749997 , 0.6048689 , 0.025     , 0.0411985 ,\n",
              "         1.        , 1.        , 0.        ],\n",
              "        [0.        , 0.        , 0.        , 0.        , 0.        ,\n",
              "         0.        , 0.        , 0.        ],\n",
              "        [0.        , 0.        , 0.        , 0.        , 0.        ,\n",
              "         0.        , 0.        , 0.        ],\n",
              "        [0.        , 0.        , 0.        , 0.        , 0.        ,\n",
              "         0.        , 0.        , 0.        ]],\n",
              "\n",
              "       [[0.        , 0.        , 0.        , 0.        , 0.        ,\n",
              "         0.        , 0.        , 0.        ],\n",
              "        [0.        , 0.        , 0.        , 0.        , 0.        ,\n",
              "         0.        , 0.        , 0.        ],\n",
              "        [0.        , 0.        , 0.        , 0.        , 0.        ,\n",
              "         0.        , 0.        , 0.        ],\n",
              "        [1.        , 0.7425003 , 0.5393257 , 0.05      , 0.07490636,\n",
              "         0.        , 1.        , 0.        ],\n",
              "        [1.        , 0.20000029, 0.4569292 , 0.045     , 0.05992509,\n",
              "         1.        , 0.        , 0.        ],\n",
              "        [0.        , 0.        , 0.        , 0.        , 0.        ,\n",
              "         0.        , 0.        , 0.        ],\n",
              "        [0.        , 0.        , 0.        , 0.        , 0.        ,\n",
              "         0.        , 0.        , 0.        ]],\n",
              "\n",
              "       [[0.        , 0.        , 0.        , 0.        , 0.        ,\n",
              "         0.        , 0.        , 0.        ],\n",
              "        [0.        , 0.        , 0.        , 0.        , 0.        ,\n",
              "         0.        , 0.        , 0.        ],\n",
              "        [0.        , 0.        , 0.        , 0.        , 0.        ,\n",
              "         0.        , 0.        , 0.        ],\n",
              "        [1.        , 0.3112502 , 0.44756556, 0.0275    , 0.04868914,\n",
              "         0.        , 1.        , 0.        ],\n",
              "        [0.        , 0.        , 0.        , 0.        , 0.        ,\n",
              "         0.        , 0.        , 0.        ],\n",
              "        [0.        , 0.        , 0.        , 0.        , 0.        ,\n",
              "         0.        , 0.        , 0.        ],\n",
              "        [0.        , 0.        , 0.        , 0.        , 0.        ,\n",
              "         0.        , 0.        , 0.        ]],\n",
              "\n",
              "       [[0.        , 0.        , 0.        , 0.        , 0.        ,\n",
              "         0.        , 0.        , 0.        ],\n",
              "        [0.        , 0.        , 0.        , 0.        , 0.        ,\n",
              "         0.        , 0.        , 0.        ],\n",
              "        [0.        , 0.        , 0.        , 0.        , 0.        ,\n",
              "         0.        , 0.        , 0.        ],\n",
              "        [0.        , 0.        , 0.        , 0.        , 0.        ,\n",
              "         0.        , 0.        , 0.        ],\n",
              "        [0.        , 0.        , 0.        , 0.        , 0.        ,\n",
              "         0.        , 0.        , 0.        ],\n",
              "        [0.        , 0.        , 0.        , 0.        , 0.        ,\n",
              "         0.        , 0.        , 0.        ],\n",
              "        [0.        , 0.        , 0.        , 0.        , 0.        ,\n",
              "         0.        , 0.        , 0.        ]]], dtype=float32)>"
            ]
          },
          "metadata": {},
          "execution_count": 926
        }
      ]
    },
    {
      "cell_type": "code",
      "source": [
        "def get_bboxes(im_path, xml_path):\n",
        "  img = tf.io.decode_png(tf.io.read_file(im_path), channels=3)\n",
        "  img = tf.cast(tf.image.resize(img, [config['H'],config['W']]), dtype=tf.float32)\n",
        "\n",
        "  # numpy_function will vectorize the function. This means that it will apply the function to all elements of an array, rather than just one element at a time.\n",
        "  # Given a python function func wrap this function as an operation in a TensorFlow function. func must take numpy arrays as its arguments and return numpy arrays as its outputs.\n",
        "  bboxes = tf.numpy_function(func=process_xml , inp=[xml_path], Tout=tf.float32)\n",
        "\n",
        "  return img, bboxes"
      ],
      "metadata": {
        "id": "1eh4N14gjDo6"
      },
      "execution_count": null,
      "outputs": []
    },
    {
      "cell_type": "code",
      "source": [
        "train_dataset=train_dataset.map(get_bboxes)\n",
        "val_dataset=val_dataset.map(get_bboxes)"
      ],
      "metadata": {
        "id": "Al_ZFd5rPUUM"
      },
      "execution_count": null,
      "outputs": []
    },
    {
      "cell_type": "code",
      "source": [
        "for i,j in train_dataset.skip(2):\n",
        "  print(i.shape,j)\n",
        "  break"
      ],
      "metadata": {
        "id": "vQ7psLMflMcw",
        "colab": {
          "base_uri": "https://localhost:8080/"
        },
        "outputId": "cdee311e-ac51-444c-b6e6-60603df61685"
      },
      "execution_count": null,
      "outputs": [
        {
          "output_type": "stream",
          "name": "stdout",
          "text": [
            "(224, 224, 3) tf.Tensor(\n",
            "[[0.045      0.32022473 0.06       0.08614232 1.        ]\n",
            " [0.0525     0.46629214 0.065      0.08614232 1.        ]\n",
            " [0.1575     0.3764045  0.085      0.15355805 1.        ]\n",
            " [0.25       0.39700374 0.05       0.08239701 1.        ]\n",
            " [0.50875    0.1835206  0.0725     0.11985019 1.        ]\n",
            " [0.8275     0.32771537 0.105      0.16853933 1.        ]\n",
            " [0.91125    0.45318353 0.0475     0.08239701 1.        ]\n",
            " [0.70625    0.45131087 0.0525     0.06367041 1.        ]\n",
            " [0.7625     0.43632957 0.035      0.05617978 1.        ]\n",
            " [0.255      0.30524343 0.05       0.07116105 1.        ]\n",
            " [0.93125    0.37265918 0.0375     0.05617978 1.        ]\n",
            " [0.9475     0.4812734  0.03       0.06367041 1.        ]\n",
            " [0.55875    0.25468165 0.0325     0.08988764 1.        ]], shape=(13, 5), dtype=float32)\n"
          ]
        }
      ]
    },
    {
      "cell_type": "code",
      "source": [
        "cv2.imwrite('out_1.png', np.array(i))"
      ],
      "metadata": {
        "colab": {
          "base_uri": "https://localhost:8080/"
        },
        "id": "-jNpc2WMGtFi",
        "outputId": "0131109b-8ad4-4c3f-be52-14e783f57ee2"
      },
      "execution_count": null,
      "outputs": [
        {
          "output_type": "execute_result",
          "data": {
            "text/plain": [
              "True"
            ]
          },
          "metadata": {},
          "execution_count": 930
        }
      ]
    },
    {
      "cell_type": "markdown",
      "source": [
        "# Augementation/Albumentations\n"
      ],
      "metadata": {
        "id": "JpRwwLYM6czX"
      }
    },
    {
      "cell_type": "code",
      "source": [
        "transforms = A.Compose([\n",
        "    A.Resize(config[\"H\"],config[\"W\"]),\n",
        "    A.RandomScale(scale_limit=0.1, interpolation=cv2.INTER_LANCZOS4,p=0.5),\n",
        "    A.HorizontalFlip(p=0.5,),\n",
        "    A.Resize(config[\"H\"],config[\"W\"]),\n",
        "\n",
        "], bbox_params=A.BboxParams(format='yolo',))"
      ],
      "metadata": {
        "id": "NABcaBimZd-f"
      },
      "execution_count": null,
      "outputs": []
    },
    {
      "cell_type": "code",
      "source": [
        "def aug_albument(image,bboxes):\n",
        "  # bboxes =  tf.constant(bboxes)\n",
        "  # bboxes =  tf.where((bboxes > 1.0), tf.constant , bboxes)\n",
        "\n",
        "  augmented=transforms(image=image,bboxes=bboxes)\n",
        "  print(augmented)\n",
        "  print(augmented[\"bboxes\"].shape)\n",
        "  return [tf.convert_to_tensor(augmented[\"image\"],dtype=tf.float32),\n",
        "          tf.convert_to_tensor(augmented[\"bboxes\"],dtype=tf.float32)]"
      ],
      "metadata": {
        "id": "UaUfo2fmcCk0"
      },
      "execution_count": null,
      "outputs": []
    },
    {
      "cell_type": "code",
      "source": [
        "def process_data(image,bboxes):\n",
        "\n",
        "    aug= tf.numpy_function(func=aug_albument, inp=[image,bboxes], Tout=(tf.float32,tf.float32))\n",
        "    return aug[0],aug[1]\n",
        "  # since our aug_albument fucntion returns array of 2 o/p from  transform function"
      ],
      "metadata": {
        "id": "zjCHfdpp_isP"
      },
      "execution_count": null,
      "outputs": []
    },
    {
      "cell_type": "code",
      "source": [
        "train_dataset = train_dataset.map(process_data)"
      ],
      "metadata": {
        "id": "UOf5qKqFD18E"
      },
      "execution_count": null,
      "outputs": []
    },
    {
      "cell_type": "code",
      "source": [
        "for i, j in train_dataset.take(2):\n",
        "  print(i.shape, j)\n",
        "  break"
      ],
      "metadata": {
        "colab": {
          "base_uri": "https://localhost:8080/",
          "height": 1000
        },
        "id": "ZPGs9_PYGYF6",
        "outputId": "e330fffd-132f-4c24-e650-ef1eef6deb5d"
      },
      "execution_count": null,
      "outputs": [
        {
          "output_type": "stream",
          "name": "stdout",
          "text": [
            "{'image': array([[[141.41083 , 128.61897 , 108.0148  ],\n",
            "        [142.97937 , 129.59117 , 109.749176],\n",
            "        [143.06303 , 128.08583 , 108.15965 ],\n",
            "        ...,\n",
            "        [111.48604 , 115.31034 , 110.360405],\n",
            "        [ 40.167267,  42.129463,  37.14767 ],\n",
            "        [ 14.853423,  14.868576,  15.658821]],\n",
            "\n",
            "       [[142.51797 , 129.5225  , 108.550316],\n",
            "        [141.62842 , 128.22777 , 107.462975],\n",
            "        [146.38371 , 130.54689 , 111.41146 ],\n",
            "        ...,\n",
            "        [107.846954, 111.65408 , 106.675026],\n",
            "        [ 37.338192,  38.5593  ,  33.56301 ],\n",
            "        [ 14.476626,  14.489441,  15.286765]],\n",
            "\n",
            "       [[140.40125 , 127.408516, 107.33442 ],\n",
            "        [140.8397  , 127.44468 , 106.679695],\n",
            "        [142.91595 , 127.8778  , 108.75883 ],\n",
            "        ...,\n",
            "        [112.34857 , 116.22038 , 110.41123 ],\n",
            "        [ 36.726307,  38.66229 ,  33.66386 ],\n",
            "        [ 14.327266,  14.340966,  15.683819]],\n",
            "\n",
            "       ...,\n",
            "\n",
            "       [[ 19.755632,  20.760298,  24.1562  ],\n",
            "        [ 24.534328,  26.268034,  29.495789],\n",
            "        [ 26.75718 ,  27.819853,  30.970984],\n",
            "        ...,\n",
            "        [ 83.11733 ,  69.21855 ,  58.11366 ],\n",
            "        [ 78.74055 ,  65.51972 ,  53.746044],\n",
            "        [ 79.58181 ,  66.54777 ,  54.584793]],\n",
            "\n",
            "       [[ 17.248508,  18.247879,  21.633015],\n",
            "        [ 23.392874,  24.413946,  28.365515],\n",
            "        [ 27.498314,  28.530748,  32.516163],\n",
            "        ...,\n",
            "        [ 85.4829  ,  72.359856,  60.465828],\n",
            "        [ 71.83749 ,  57.9032  ,  46.83237 ],\n",
            "        [ 77.89386 ,  64.30731 ,  52.8948  ]],\n",
            "\n",
            "       [[ 16.239252,  17.238438,  20.241434],\n",
            "        [ 22.742657,  23.753963,  27.545637],\n",
            "        [ 26.661789,  27.699608,  30.799017],\n",
            "        ...,\n",
            "        [ 75.77172 ,  62.754967,  50.76933 ],\n",
            "        [ 85.24726 ,  72.238235,  60.24875 ],\n",
            "        [ 79.66274 ,  66.2718  ,  54.662766]]], dtype=float32), 'bboxes': [(0.0975000262260437, 0.5, 0.04500000178813934, 0.09333333373069763, 1.0), (0.29874998331069946, 0.18666666746139526, 0.042500000447034836, 0.07999999821186066, 1.0), (0.5074999928474426, 0.5933333039283752, 0.04500000178813934, 0.08444444090127945, 1.0), (0.9237499982118607, 0.2800000011920929, 0.05249999836087227, 0.07999999821186066, 1.0), (0.6699999868869781, 0.3444444537162781, 0.04500000178813934, 0.08444444090127945, 1.0), (0.5875000059604645, 0.23999999463558197, 0.03999999910593033, 0.07999999821186066, 1.0), (0.7400000095367432, 0.9688888788223267, 0.04500000178813934, 0.06222222372889519, 0.0), (0.41874998807907104, 0.846666693687439, 0.03750000149011612, 0.08444444090127945, 0.0)]}\n",
            "{'image': array([[[142.4653  , 124.66506 ,  95.626595],\n",
            "        [143.64229 , 125.421974,  95.82655 ],\n",
            "        [145.39978 , 125.946495,  96.73023 ],\n",
            "        ...,\n",
            "        [171.06602 , 204.99445 , 251.04457 ],\n",
            "        [170.88512 , 205.05986 , 251.00764 ],\n",
            "        [169.3715  , 205.80887 , 250.99976 ]],\n",
            "\n",
            "       [[144.64258 , 125.83852 ,  96.53173 ],\n",
            "        [144.2709  , 125.52171 ,  95.75443 ],\n",
            "        [145.11562 , 125.20203 ,  96.5814  ],\n",
            "        ...,\n",
            "        [171.32008 , 205.4103  , 251.52217 ],\n",
            "        [171.03784 , 205.20956 , 251.2482  ],\n",
            "        [169.96774 , 205.6813  , 251.06349 ]],\n",
            "\n",
            "       [[145.32579 , 126.73002 ,  94.81008 ],\n",
            "        [146.66856 , 126.86896 ,  96.03222 ],\n",
            "        [147.81754 , 126.689674,  96.408325],\n",
            "        ...,\n",
            "        [171.29404 , 205.31647 , 250.66872 ],\n",
            "        [171.1903  , 205.42723 , 251.43648 ],\n",
            "        [169.70271 , 205.5002  , 251.46844 ]],\n",
            "\n",
            "       ...,\n",
            "\n",
            "       [[ 16.727673,  21.111767,  32.726143],\n",
            "        [ 16.630396,  21.131685,  31.999783],\n",
            "        [ 17.765287,  22.408403,  32.91966 ],\n",
            "        ...,\n",
            "        [151.76328 , 125.16013 ,  94.54123 ],\n",
            "        [151.91895 , 124.87945 ,  93.69884 ],\n",
            "        [151.15633 , 125.093185,  92.97497 ]],\n",
            "\n",
            "       [[ 15.881956,  21.139242,  31.139315],\n",
            "        [ 16.634611,  21.183342,  30.601957],\n",
            "        [ 17.984085,  22.158886,  32.79799 ],\n",
            "        ...,\n",
            "        [138.88316 , 115.8724  ,  91.69659 ],\n",
            "        [141.42766 , 118.044556,  93.584496],\n",
            "        [142.4007  , 119.467354,  93.07483 ]],\n",
            "\n",
            "       [[ 16.158642,  18.986988,  27.731504],\n",
            "        [ 17.499485,  21.309227,  29.694332],\n",
            "        [ 15.815347,  20.8111  ,  29.93931 ],\n",
            "        ...,\n",
            "        [ 35.90195 ,  30.312899,  31.822031],\n",
            "        [ 37.00194 ,  32.33832 ,  32.142887],\n",
            "        [ 39.12954 ,  35.64548 ,  33.119904]]], dtype=float32), 'bboxes': [(0.4833887219429016, 0.6012499928474426, 0.19601328670978546, 0.27250000834465027, 0.0)]}\n"
          ]
        },
        {
          "output_type": "error",
          "ename": "UnknownError",
          "evalue": "ignored",
          "traceback": [
            "\u001b[0;31m---------------------------------------------------------------------------\u001b[0m",
            "\u001b[0;31mUnknownError\u001b[0m                              Traceback (most recent call last)",
            "\u001b[0;32m<ipython-input-935-76f070833975>\u001b[0m in \u001b[0;36m<cell line: 1>\u001b[0;34m()\u001b[0m\n\u001b[0;32m----> 1\u001b[0;31m \u001b[0;32mfor\u001b[0m \u001b[0mi\u001b[0m\u001b[0;34m,\u001b[0m \u001b[0mj\u001b[0m \u001b[0;32min\u001b[0m \u001b[0mtrain_dataset\u001b[0m\u001b[0;34m.\u001b[0m\u001b[0mtake\u001b[0m\u001b[0;34m(\u001b[0m\u001b[0;36m2\u001b[0m\u001b[0;34m)\u001b[0m\u001b[0;34m:\u001b[0m\u001b[0;34m\u001b[0m\u001b[0;34m\u001b[0m\u001b[0m\n\u001b[0m\u001b[1;32m      2\u001b[0m   \u001b[0mprint\u001b[0m\u001b[0;34m(\u001b[0m\u001b[0mi\u001b[0m\u001b[0;34m.\u001b[0m\u001b[0mshape\u001b[0m\u001b[0;34m,\u001b[0m \u001b[0mj\u001b[0m\u001b[0;34m)\u001b[0m\u001b[0;34m\u001b[0m\u001b[0;34m\u001b[0m\u001b[0m\n\u001b[1;32m      3\u001b[0m   \u001b[0;32mbreak\u001b[0m\u001b[0;34m\u001b[0m\u001b[0;34m\u001b[0m\u001b[0m\n",
            "\u001b[0;32m/usr/local/lib/python3.10/dist-packages/tensorflow/python/data/ops/iterator_ops.py\u001b[0m in \u001b[0;36m__next__\u001b[0;34m(self)\u001b[0m\n\u001b[1;32m    795\u001b[0m   \u001b[0;32mdef\u001b[0m \u001b[0m__next__\u001b[0m\u001b[0;34m(\u001b[0m\u001b[0mself\u001b[0m\u001b[0;34m)\u001b[0m\u001b[0;34m:\u001b[0m\u001b[0;34m\u001b[0m\u001b[0;34m\u001b[0m\u001b[0m\n\u001b[1;32m    796\u001b[0m     \u001b[0;32mtry\u001b[0m\u001b[0;34m:\u001b[0m\u001b[0;34m\u001b[0m\u001b[0;34m\u001b[0m\u001b[0m\n\u001b[0;32m--> 797\u001b[0;31m       \u001b[0;32mreturn\u001b[0m \u001b[0mself\u001b[0m\u001b[0;34m.\u001b[0m\u001b[0m_next_internal\u001b[0m\u001b[0;34m(\u001b[0m\u001b[0;34m)\u001b[0m\u001b[0;34m\u001b[0m\u001b[0;34m\u001b[0m\u001b[0m\n\u001b[0m\u001b[1;32m    798\u001b[0m     \u001b[0;32mexcept\u001b[0m \u001b[0merrors\u001b[0m\u001b[0;34m.\u001b[0m\u001b[0mOutOfRangeError\u001b[0m\u001b[0;34m:\u001b[0m\u001b[0;34m\u001b[0m\u001b[0;34m\u001b[0m\u001b[0m\n\u001b[1;32m    799\u001b[0m       \u001b[0;32mraise\u001b[0m \u001b[0mStopIteration\u001b[0m\u001b[0;34m\u001b[0m\u001b[0;34m\u001b[0m\u001b[0m\n",
            "\u001b[0;32m/usr/local/lib/python3.10/dist-packages/tensorflow/python/data/ops/iterator_ops.py\u001b[0m in \u001b[0;36m_next_internal\u001b[0;34m(self)\u001b[0m\n\u001b[1;32m    778\u001b[0m     \u001b[0;31m# to communicate that there is no more data to iterate over.\u001b[0m\u001b[0;34m\u001b[0m\u001b[0;34m\u001b[0m\u001b[0m\n\u001b[1;32m    779\u001b[0m     \u001b[0;32mwith\u001b[0m \u001b[0mcontext\u001b[0m\u001b[0;34m.\u001b[0m\u001b[0mexecution_mode\u001b[0m\u001b[0;34m(\u001b[0m\u001b[0mcontext\u001b[0m\u001b[0;34m.\u001b[0m\u001b[0mSYNC\u001b[0m\u001b[0;34m)\u001b[0m\u001b[0;34m:\u001b[0m\u001b[0;34m\u001b[0m\u001b[0;34m\u001b[0m\u001b[0m\n\u001b[0;32m--> 780\u001b[0;31m       ret = gen_dataset_ops.iterator_get_next(\n\u001b[0m\u001b[1;32m    781\u001b[0m           \u001b[0mself\u001b[0m\u001b[0;34m.\u001b[0m\u001b[0m_iterator_resource\u001b[0m\u001b[0;34m,\u001b[0m\u001b[0;34m\u001b[0m\u001b[0;34m\u001b[0m\u001b[0m\n\u001b[1;32m    782\u001b[0m           \u001b[0moutput_types\u001b[0m\u001b[0;34m=\u001b[0m\u001b[0mself\u001b[0m\u001b[0;34m.\u001b[0m\u001b[0m_flat_output_types\u001b[0m\u001b[0;34m,\u001b[0m\u001b[0;34m\u001b[0m\u001b[0;34m\u001b[0m\u001b[0m\n",
            "\u001b[0;32m/usr/local/lib/python3.10/dist-packages/tensorflow/python/ops/gen_dataset_ops.py\u001b[0m in \u001b[0;36miterator_get_next\u001b[0;34m(iterator, output_types, output_shapes, name)\u001b[0m\n\u001b[1;32m   3014\u001b[0m       \u001b[0;32mreturn\u001b[0m \u001b[0m_result\u001b[0m\u001b[0;34m\u001b[0m\u001b[0;34m\u001b[0m\u001b[0m\n\u001b[1;32m   3015\u001b[0m     \u001b[0;32mexcept\u001b[0m \u001b[0m_core\u001b[0m\u001b[0;34m.\u001b[0m\u001b[0m_NotOkStatusException\u001b[0m \u001b[0;32mas\u001b[0m \u001b[0me\u001b[0m\u001b[0;34m:\u001b[0m\u001b[0;34m\u001b[0m\u001b[0;34m\u001b[0m\u001b[0m\n\u001b[0;32m-> 3016\u001b[0;31m       \u001b[0m_ops\u001b[0m\u001b[0;34m.\u001b[0m\u001b[0mraise_from_not_ok_status\u001b[0m\u001b[0;34m(\u001b[0m\u001b[0me\u001b[0m\u001b[0;34m,\u001b[0m \u001b[0mname\u001b[0m\u001b[0;34m)\u001b[0m\u001b[0;34m\u001b[0m\u001b[0;34m\u001b[0m\u001b[0m\n\u001b[0m\u001b[1;32m   3017\u001b[0m     \u001b[0;32mexcept\u001b[0m \u001b[0m_core\u001b[0m\u001b[0;34m.\u001b[0m\u001b[0m_FallbackException\u001b[0m\u001b[0;34m:\u001b[0m\u001b[0;34m\u001b[0m\u001b[0;34m\u001b[0m\u001b[0m\n\u001b[1;32m   3018\u001b[0m       \u001b[0;32mpass\u001b[0m\u001b[0;34m\u001b[0m\u001b[0;34m\u001b[0m\u001b[0m\n",
            "\u001b[0;32m/usr/local/lib/python3.10/dist-packages/tensorflow/python/framework/ops.py\u001b[0m in \u001b[0;36mraise_from_not_ok_status\u001b[0;34m(e, name)\u001b[0m\n\u001b[1;32m   7260\u001b[0m \u001b[0;32mdef\u001b[0m \u001b[0mraise_from_not_ok_status\u001b[0m\u001b[0;34m(\u001b[0m\u001b[0me\u001b[0m\u001b[0;34m,\u001b[0m \u001b[0mname\u001b[0m\u001b[0;34m)\u001b[0m\u001b[0;34m:\u001b[0m\u001b[0;34m\u001b[0m\u001b[0;34m\u001b[0m\u001b[0m\n\u001b[1;32m   7261\u001b[0m   \u001b[0me\u001b[0m\u001b[0;34m.\u001b[0m\u001b[0mmessage\u001b[0m \u001b[0;34m+=\u001b[0m \u001b[0;34m(\u001b[0m\u001b[0;34m\" name: \"\u001b[0m \u001b[0;34m+\u001b[0m \u001b[0mname\u001b[0m \u001b[0;32mif\u001b[0m \u001b[0mname\u001b[0m \u001b[0;32mis\u001b[0m \u001b[0;32mnot\u001b[0m \u001b[0;32mNone\u001b[0m \u001b[0;32melse\u001b[0m \u001b[0;34m\"\"\u001b[0m\u001b[0;34m)\u001b[0m\u001b[0;34m\u001b[0m\u001b[0;34m\u001b[0m\u001b[0m\n\u001b[0;32m-> 7262\u001b[0;31m   \u001b[0;32mraise\u001b[0m \u001b[0mcore\u001b[0m\u001b[0;34m.\u001b[0m\u001b[0m_status_to_exception\u001b[0m\u001b[0;34m(\u001b[0m\u001b[0me\u001b[0m\u001b[0;34m)\u001b[0m \u001b[0;32mfrom\u001b[0m \u001b[0;32mNone\u001b[0m  \u001b[0;31m# pylint: disable=protected-access\u001b[0m\u001b[0;34m\u001b[0m\u001b[0;34m\u001b[0m\u001b[0m\n\u001b[0m\u001b[1;32m   7263\u001b[0m \u001b[0;34m\u001b[0m\u001b[0m\n\u001b[1;32m   7264\u001b[0m \u001b[0;34m\u001b[0m\u001b[0m\n",
            "\u001b[0;31mUnknownError\u001b[0m: {{function_node __wrapped__IteratorGetNext_output_types_2_device_/job:localhost/replica:0/task:0/device:CPU:0}} AttributeError: 'list' object has no attribute 'shape'\nTraceback (most recent call last):\n\n  File \"/usr/local/lib/python3.10/dist-packages/tensorflow/python/ops/script_ops.py\", line 267, in __call__\n    ret = func(*args)\n\n  File \"/usr/local/lib/python3.10/dist-packages/tensorflow/python/autograph/impl/api.py\", line 642, in wrapper\n    return func(*args, **kwargs)\n\n  File \"<ipython-input-932-c9f16794d7da>\", line 7, in aug_albument\n    print(augmented[\"bboxes\"].shape)\n\nAttributeError: 'list' object has no attribute 'shape'\n\n\n\t [[{{node PyFunc}}]] [Op:IteratorGetNext]"
          ]
        }
      ]
    },
    {
      "cell_type": "code",
      "source": [
        "cv2.imwrite(\"out_2.png\", np.array(i))"
      ],
      "metadata": {
        "id": "ILUegC6TIVyW"
      },
      "execution_count": null,
      "outputs": []
    },
    {
      "cell_type": "code",
      "source": [
        "def preprocess_augment(img,y):\n",
        "  img = tf.image.random_brightness(img, max_delta=50.)\n",
        "  img = tf.image.random_saturation(img, lower=0.5, upper=1.5)\n",
        "  img = tf.image.random_contrast(img, lower=0.5, upper=1.5)\n",
        "  #img = tf.image.random_hue(img, max_delta=0.5 )\n",
        "  img = tf.clip_by_value(img, 0, 255)\n",
        "  labels=tf.numpy_function(func=generate_output, inp=[y], Tout=(tf.float32))\n",
        "  return img,labels"
      ],
      "metadata": {
        "id": "4ZoB4nosIl-N"
      },
      "execution_count": null,
      "outputs": []
    },
    {
      "cell_type": "code",
      "source": [
        "def preprocess(img,y):\n",
        "  img = tf.cast(tf.image.resize(img, size=[config[\"H\"], config[\"W\"]]), dtype=tf.float32)\n",
        "  labels=tf.numpy_function(func=generate_output, inp=[y], Tout=(tf.float32))\n",
        "  return img,labels"
      ],
      "metadata": {
        "id": "LXZH2LoEImAM"
      },
      "execution_count": null,
      "outputs": []
    },
    {
      "cell_type": "code",
      "source": [
        "train_dataset = train_dataset.map(preprocess_augment)\n",
        "val_dataset = val_dataset.map(preprocess)\n",
        "# since we want augementation for only train dataset not val/testing dataset"
      ],
      "metadata": {
        "id": "WEUBz_z7JkuW"
      },
      "execution_count": null,
      "outputs": []
    },
    {
      "cell_type": "code",
      "source": [
        "train_dataset = (\n",
        "    train_dataset\n",
        "    .batch(config[\"batch_size\"])\n",
        "    .prefetch(tf.data.AUTOTUNE)\n",
        ")\n",
        "val_dataset = (\n",
        "    val_dataset\n",
        "    .batch(config[\"batch_size\"])\n",
        "    .prefetch(tf.data.AUTOTUNE)\n",
        ")"
      ],
      "metadata": {
        "id": "Vpkju_dt6jdl"
      },
      "execution_count": null,
      "outputs": []
    },
    {
      "cell_type": "code",
      "source": [
        "for i, j in  train_dataset.take(1):\n",
        "  print(i.shape, j)\n",
        "  break"
      ],
      "metadata": {
        "id": "7xiw9GDIXz92"
      },
      "execution_count": null,
      "outputs": []
    },
    {
      "cell_type": "code",
      "source": [
        "# hehe =  tf.constant([[0.20625,    0.30666667, 0.0875,     0.14,       1.        ],\n",
        "#  [0.35875,    0.24833333 , 0.0475  ,   0.09     ,  0.        ],\n",
        "#  [0.4525  ,   0.17166667 ,0.065    ,  0.11      , 0.        ],\n",
        "#  [0.93625 ,   0.21166667 ,0.0575   ,  0.07666667, 1.        ],\n",
        "#  [0.86625 ,   0.28833333 ,0.0525   ,  0.05666667, 1.        ],], dtype=tf.float32, shape=(5,5))\n",
        "\n",
        "# for i , val in enumerate(hehe[..., 2]):\n",
        "#   if(val>0.08):\n",
        "#     value = tf.Variable(hehe[...,2][i])\n",
        "#     value.assign(1.0)\n",
        "\n",
        "\n",
        "# print(hehe)\n"
      ],
      "metadata": {
        "id": "7duTGlP7Bev1"
      },
      "execution_count": null,
      "outputs": []
    },
    {
      "cell_type": "code",
      "source": [
        "bounding_box = tf.constant([-0.1, 0.8, 0.5, 1.0002], dtype=tf.float32)\n",
        "normie =[]\n",
        "def put_value_in_range(bounding_box):\n",
        "  updated_bounding_box = tf.where((bounding_box < 1.0 ),\n",
        "                                  bounding_box,\n",
        "                                  tf.constant(1.0))\n",
        "\n",
        "  # updated_bounding_box = tf.where((updated_bounding_box > 0.0 ),\n",
        "  #                                 bounding_box,\n",
        "  #                                 tf.constant(0.0))\n",
        "  return updated_bounding_box\n",
        "\n",
        "updated_bounding_box = put_value_in_range(bounding_box)\n",
        "normie = updated_bounding_box\n",
        "print(normie)"
      ],
      "metadata": {
        "id": "5815tRswSYbq"
      },
      "execution_count": null,
      "outputs": []
    },
    {
      "cell_type": "code",
      "source": [
        "cv2.imwrite(\"out_3.png\", np.array(i[2]))"
      ],
      "metadata": {
        "id": "GXY4XTJmKNDb"
      },
      "execution_count": null,
      "outputs": []
    },
    {
      "cell_type": "code",
      "source": [
        "hehe = np.array([(0.2, 0.3, 0.0),\n",
        "                  (0.3, 0.2, 0.0),\n",
        "                  (0.4, 0.1, 0.0),\n",
        "                  (0.9, 0.2, 0.0),\n",
        "                  (0.8, 0.3, 0.0)])\n"
      ],
      "metadata": {
        "id": "zyuNViA4ggw_"
      },
      "execution_count": null,
      "outputs": []
    },
    {
      "cell_type": "markdown",
      "source": [
        "#Making Model"
      ],
      "metadata": {
        "id": "oEjGy-J3URtS"
      }
    },
    {
      "cell_type": "code",
      "source": [
        "base_model = tf.keras.applications.efficientnet.EfficientNetB1(\n",
        "    include_top = False,\n",
        "    weights=\"imagenet\",\n",
        "    input_shape = (config[\"H\"], config[\"W\"], 3)\n",
        ")\n",
        "base_model.trainable = False"
      ],
      "metadata": {
        "id": "SkZ9CKl4URO7"
      },
      "execution_count": null,
      "outputs": []
    },
    {
      "cell_type": "code",
      "source": [
        "model=tf.keras.Sequential([\n",
        "  base_model,\n",
        "  #  tf.keras.initializers.he_normal.It draws samples from a truncated normal distribution centered on 0 with stddev = sqrt(2 / fan_in) where fan_in is the number of input units in the weight tensor.\n",
        "  Conv2D(NUM_FILTERS,(3,3), padding = 'same',kernel_initializer='he_normal',),\n",
        "  BatchNormalization(),\n",
        "    # alpha means multiplying negative values with 0.1\n",
        "\n",
        "  LeakyReLU(alpha=0.1),\n",
        "\n",
        "  Conv2D(NUM_FILTERS,(3,3),padding = 'same',kernel_initializer='he_normal',),\n",
        "  BatchNormalization(),\n",
        "  LeakyReLU(alpha=0.1),\n",
        "\n",
        "  Conv2D(NUM_FILTERS,(3,3),padding = 'same',kernel_initializer='he_normal',),\n",
        "  BatchNormalization(),\n",
        "  LeakyReLU(alpha=0.1),\n",
        "\n",
        "  Conv2D(NUM_FILTERS,(3,3),padding = 'same',kernel_initializer='he_normal',),\n",
        "  LeakyReLU(alpha=0.1),\n",
        "\n",
        "  Flatten(),\n",
        "\n",
        "  Dense(NUM_FILTERS,kernel_initializer='he_normal',),\n",
        "  BatchNormalization(),\n",
        "  LeakyReLU(alpha=0.1),\n",
        "\n",
        "  Dropout(0.5),\n",
        "\n",
        "  Dense(config[\"split_size\"]*config[\"split_size\"]*OUTPUT_DIM,activation='sigmoid'),\n",
        "\n",
        "  Reshape((config[\"split_size\"],config[\"split_size\"],OUTPUT_DIM)),\n",
        "])\n",
        "model.summary()\n"
      ],
      "metadata": {
        "id": "Ex9fhhcZURA2"
      },
      "execution_count": null,
      "outputs": []
    },
    {
      "cell_type": "markdown",
      "source": [
        "# Compute IOU"
      ],
      "metadata": {
        "id": "bBL0_REOkOtA"
      }
    },
    {
      "cell_type": "code",
      "source": [
        "def compute_iou(boxes1, boxes2):\n",
        "    boxes1_t = tf.stack([boxes1[..., 0] - boxes1[..., 2] / 2.0,\n",
        "                         boxes1[..., 1] - boxes1[..., 3] / 2.0,\n",
        "                         boxes1[..., 0] + boxes1[..., 2] / 2.0,\n",
        "                         boxes1[..., 1] + boxes1[..., 3] / 2.0],\n",
        "                        axis=-1)\n",
        "\n",
        "    boxes2_t = tf.stack([boxes2[..., 0] - boxes2[..., 2] / 2.0,\n",
        "                         boxes2[..., 1] - boxes2[..., 3] / 2.0,\n",
        "                         boxes2[..., 0] + boxes2[..., 2] / 2.0,\n",
        "                         boxes2[..., 1] + boxes2[..., 3] / 2.0],\n",
        "                        axis=-1)\n",
        "    lu = tf.maximum(boxes1_t[..., :2], boxes2_t[..., :2])\n",
        "    rd = tf.minimum(boxes1_t[..., 2:], boxes2_t[..., 2:])\n",
        "\n",
        "    intersection = tf.maximum(0.0, rd - lu)\n",
        "    inter_square = intersection[..., 0] * intersection[..., 1]\n",
        "\n",
        "    square1 = boxes1[..., 2] * boxes1[..., 3]\n",
        "    square2 = boxes2[..., 2] * boxes2[..., 3]\n",
        "\n",
        "    union_square = tf.maximum(square1 + square2 - inter_square, 1e-10)\n",
        "    return tf.clip_by_value(inter_square / union_square, 0.0, 1.0)"
      ],
      "metadata": {
        "id": "MRFgyekYkRc6"
      },
      "execution_count": null,
      "outputs": []
    },
    {
      "cell_type": "code",
      "source": [
        "def difference(x,y):\n",
        "  # Computes the sum of elements across dimensions of a tensor.\n",
        "  return tf.reduce_sum(tf.square(y-x))"
      ],
      "metadata": {
        "id": "mHy3FPS8XQHj"
      },
      "execution_count": null,
      "outputs": []
    },
    {
      "cell_type": "markdown",
      "source": [
        "![Screenshot 2023-07-31 013108 (1).png](data:image/png;base64,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)"
      ],
      "metadata": {
        "id": "WOpNTzw6mVTW"
      }
    },
    {
      "cell_type": "code",
      "source": [
        "# our rescaler is fetching the real bounding box first five params and multuplying with 7(because our to get dimension of the patch we've to multiply by patch_size)\n",
        "# then you can see im concatinating zeros to recaler(original_bb) --> λ(w_center, h_center, width , height) and the zeros having length of the rescaler (making sure the dimension of rescaler matches the zeros dimensions)\n",
        "#\n",
        "\n",
        "def yolo_loss(y_true, y_pred):\n",
        "  target = y_true[...,0]\n",
        "  ###################### OBject Loss\n",
        "\n",
        "  # the y_true contains λ(w_center, h_center, width , height)*13 = 13\n",
        "  # the y_pred contains λ1(w_center, h_center, width , height)*λ2(w_center, h_center, width , height)*13 =18\n",
        "\n",
        "\n",
        "\n",
        "  # The tf.gather_nd() function in TensorFlow is used to gather elements from a tensor according to a set of indices. The function takes two arguments:\n",
        "  # The first argument is the tensor from which elements will be gathered.\n",
        "  # The second argument is a tensor of indices that specifies which elements to gather.\n",
        "  # The indices tensor can have any shape, but it must be compatible with the shape of the tensor from which elements will be gathered. For example, if the tensor from which elements will be gathered has a shape of (2, 3, 4), then the indices tensor must have a shape of (2, 3).\n",
        "  y_pred_extract = tf.gather_nd(y_pred, tf.where(target[:]==1))\n",
        "  y_target_extract = tf.gather_nd(y_true, tf.where(target[:]==1))\n",
        "  # above we only wanted those patches where our o/p is 1 meaning the object is present\n",
        "  print(\"y_pred_extract\",y_pred_extract, \"y_target_extract\", y_target_extract)\n",
        "  # BACKPROPOGATION\n",
        "\n",
        "  rescaler = tf.where(target[:]==1)*config[\"split_size\"]\n",
        "  # making upscaler having the first 5 (λ(w_center, h_center, width , height)) filled from the detected object and rest 13 are filled with 0's\n",
        "  upscaler_1 = tf.concat([rescaler[:,1:],tf.zeros([len(rescaler),2], dtype=tf.int64)],axis=-1)\n",
        "\n",
        "\n",
        "  # below we multiply (32,32,224,224) --> backpropagate\n",
        "  # make sure to notice the dimension of the repeat tensor (1,1,4) ---> [[32,32,224,224]]\n",
        "\n",
        "  # making for the target/y_true\n",
        "  target_upscaler_2 = tf.repeat([[float(config[\"split_size\"]),float(config[\"split_size\"]),config[\"H\"],config[\"W\"]]],\n",
        "                       repeats=[len(rescaler)], axis=0)*tf.cast(y_target_extract[...,1:5], dtype = tf.float32)\n",
        "\n",
        "  # making for pred/y_pred\n",
        "\n",
        "  pred_1_upscaler_2 = tf.repeat([[float(config['split_size']),float(config['split_size']),config[\"H\"],config[\"W\"]]],\n",
        "                      repeats=[len(rescaler)], axis=0)*tf.cast(y_pred_extract[...,1:5], dtype = tf.float32)\n",
        "  pred_2_upscaler_2 = tf.repeat([[float(config['split_size']),float(config['split_size']),config[\"H\"],config[\"W\"]]],\n",
        "                      repeats=[len(rescaler)], axis=0)*tf.cast(y_pred_extract[...,6:10], dtype = tf.float32)\n",
        "\n",
        "\n",
        "  # since our values in upscaler_1 first 5 indicies for y_true is filled λ(w_center, h_center, width , height) and rest are )'s hence we are adding the\n",
        "\n",
        "  target_orig = tf.cast(upscaler_1, dtype = tf.float32)+target_upscaler_2\n",
        "  pred_1_orig = tf.cast(upscaler_1, dtype = tf.float32)+pred_1_upscaler_2\n",
        "  pred_2_orig = tf.cast(upscaler_1, dtype = tf.float32)+pred_2_upscaler_2\n",
        "\n",
        "\n",
        "  # comparing the iou score of the first_pred with the second and whichever is greater got accepted\n",
        "  # we've first taken in the pred_2 and then pred_1 for convinence\n",
        "  mask =tf.cast(tf.math.greater(compute_iou(target_orig,pred_2_orig),\n",
        "                                compute_iou(target_orig,pred_1_orig)),\n",
        "                                dtype=tf.int32)\n",
        "  # concat need scalar tensor i.e, the input tensor to combined must be scalar hence we pass the values to be concatinated in array [] ->Rank-1\n",
        "  # pred_2_orig has 8 values so the only value where we have 5 values is y_pred_extract\n",
        "  y_pred_joined=tf.transpose(tf.concat([tf.expand_dims(y_pred_extract[...,0],axis=0),\n",
        "                        tf.expand_dims(y_pred_extract[...,5],axis=0)],axis=0))\n",
        "\n",
        "\n",
        "  # above from shape (2,1) to shape (1,2)\n",
        "\n",
        "  # Stacks a list of rank-R tensors into one rank-(R+1) tensor.\n",
        "  # now stacking up iterator value from 0 to len(rescaler), mask --> 0 or 1(repr -> false and true) ---> resulting --[(0,1) ,(1,0), (2,0)] --> now rank is 1 so after stacking rank will be 2  so o/p shape of stack ---> (len(rescale), 2)\n",
        "  # now see we are stacking in colmnwise manner hence the number of rows will always be 2 and columns--> len(rescaler)\n",
        "  obj_pred = tf.gather_nd(y_pred_joined,tf.stack([tf.range(len(rescaler)),mask],axis=-1))\n",
        "\n",
        "  object_loss = difference(tf.cast(obj_pred,dtype =tf.float32)\n",
        "                            ,tf.cast(tf.ones([len(rescaler)]),dtype=tf.float32))\n",
        "\n",
        "  ######################## --->FOR NO OBJECT\n",
        "  # getting the all 10 params of of the patches where there is no objecti i.e, our target =0\n",
        "  y_pred_extract = tf.gather_nd(y_pred[...,0:config[\"B\"]*5], tf.where(target[:]==0))\n",
        "\n",
        "\n",
        "  y_target_extract = tf.zeros(len(y_pred_extract))\n",
        "\n",
        "  no_object_loss_1 = difference(tf.cast(y_pred_extract[...,0],dtype =tf.float32)\n",
        "                            ,tf.cast(y_target_extract,dtype=tf.float32))\n",
        "\n",
        "  no_object_loss_2 = difference(tf.cast(y_pred_extract[...,5],dtype =tf.float32)\n",
        "                            ,tf.cast(y_target_extract,dtype=tf.float32))\n",
        "\n",
        "  no_object_loss = no_object_loss_1+no_object_loss_2\n",
        "\n",
        "  ######################## For OBject class loss\n",
        "  y_pred_extract = tf.gather_nd(y_pred[...,10:],tf.where(target[:]==1))\n",
        "  class_extract = tf.gather_nd(y_true[...,5:],tf.where(target[:]==1))\n",
        "\n",
        "  class_loss = difference(tf.cast(y_pred_extract,dtype =tf.float32)\n",
        "                                ,tf.cast(class_extract,dtype=tf.float32))\n",
        "\n",
        "  ######################### For object bounding box loss\n",
        "  y_pred_extract = tf.gather_nd(y_pred[...,0:config[\"B\"]*5], tf.where(target[:]==1))\n",
        "  # taking center points from the prediction\n",
        "  centre_joined=tf.stack([y_pred_extract[...,1:3],y_pred_extract[...,6:8]],axis=1)\n",
        "\n",
        "  centre_pred = tf.gather_nd(centre_joined,tf.stack([tf.range(len(rescaler)),mask],axis=-1))\n",
        "  centre_target = tf.gather_nd(y_true[...,1:3], tf.where(target[:]==1))\n",
        "\n",
        "  centre_loss = difference(centre_pred,centre_target)\n",
        "\n",
        "  size_joined=tf.stack([y_pred_extract[...,3:5],y_pred_extract[...,8:10]],axis=1)\n",
        "\n",
        "  size_pred = tf.gather_nd(size_joined,tf.stack([tf.range(len(rescaler)),mask],axis=-1))\n",
        "  size_target = tf.gather_nd(y_true[...,3:5], tf.where(target[:]==1))\n",
        "  print(size_pred, size_target)\n",
        "  size_loss = difference(tf.math.sqrt(tf.math.abs(size_pred)),tf.math.sqrt(tf.math.abs(size_target)))\n",
        "  box_loss = centre_loss+size_loss\n",
        "\n",
        "  lambda_coord = 5.0\n",
        "  lambda_no_obj = 0.5\n",
        "\n",
        "  loss = object_loss + (lambda_no_obj*no_object_loss)+ tf.cast(lambda_coord*box_loss,dtype=tf.float32)+ tf.cast(class_loss,dtype=tf.float32)\n",
        "  return loss"
      ],
      "metadata": {
        "id": "-DuTF5UVXlMR"
      },
      "execution_count": null,
      "outputs": []
    },
    {
      "cell_type": "code",
      "source": [
        "checkpoint_filepath='/content/drive/MyDrive/Bang/yolo_efficientnet_b1_new.h5'\n",
        "callback = tf.keras.callbacks.ModelCheckpoint(\n",
        "    filepath = checkpoint_filepath,\n",
        "    save_weights_only=True,\n",
        "    monitor='val_loss',\n",
        "    mode='min',\n",
        "    save_best_only=True\n",
        ")"
      ],
      "metadata": {
        "id": "mwXZ4Z-ScI4v"
      },
      "execution_count": null,
      "outputs": []
    },
    {
      "cell_type": "code",
      "source": [
        "def scheduler(epoch, lr):\n",
        "  if epoch < 40:\n",
        "    return 1e-3\n",
        "  elif epoch>=40 and epoch<80:\n",
        "    return 5e-4\n",
        "  else:\n",
        "    return 1e-4"
      ],
      "metadata": {
        "id": "2rQqR6Dk6WOe"
      },
      "execution_count": null,
      "outputs": []
    },
    {
      "cell_type": "code",
      "source": [
        "lr_callback = tf.keras.callbacks.LearningRateScheduler(scheduler)"
      ],
      "metadata": {
        "id": "bEN7CRs7cNx3"
      },
      "execution_count": null,
      "outputs": []
    },
    {
      "cell_type": "code",
      "source": [
        "model.compile(\n",
        "  loss=yolo_loss,\n",
        "  optimizer=Adam(1e-3),\n",
        ")"
      ],
      "metadata": {
        "id": "yMzI0ejYcQcv"
      },
      "execution_count": null,
      "outputs": []
    },
    {
      "cell_type": "code",
      "source": [
        "from google.colab import drive\n",
        "drive.mount('/content/drive')"
      ],
      "metadata": {
        "id": "v_Mcom1KcSnn"
      },
      "execution_count": null,
      "outputs": []
    },
    {
      "cell_type": "code",
      "source": [
        "model.load_weights(checkpoint_filepath)"
      ],
      "metadata": {
        "id": "IArlYd4jcSs0"
      },
      "execution_count": null,
      "outputs": []
    },
    {
      "cell_type": "code",
      "source": [
        "history = model.fit(\n",
        "  train_dataset,\n",
        "  validation_data=val_dataset,\n",
        "  verbose=1,\n",
        "  epochs=135,\n",
        "  callbacks = [lr_callback,callback]\n",
        ")"
      ],
      "metadata": {
        "id": "Nv6fVMFM-E8W"
      },
      "execution_count": null,
      "outputs": []
    },
    {
      "cell_type": "code",
      "source": [
        "x = tf.constant([1, 4])\n",
        "y = tf.constant([2, 5])\n",
        "z = tf.constant([3, 6])\n",
        "\n",
        "tf.stack([x, y, z], axis=0)"
      ],
      "metadata": {
        "id": "HXlfs8uc6q0J"
      },
      "execution_count": null,
      "outputs": []
    },
    {
      "cell_type": "code",
      "source": [
        "!pip install pylint --upgrade"
      ],
      "metadata": {
        "id": "OMrp4XMMlsBX"
      },
      "execution_count": null,
      "outputs": []
    },
    {
      "cell_type": "code",
      "source": [
        "!pip install flake8"
      ],
      "metadata": {
        "id": "PdBEV43lhjNC"
      },
      "execution_count": null,
      "outputs": []
    },
    {
      "cell_type": "code",
      "source": [],
      "metadata": {
        "id": "xGpjvIZshCxD"
      },
      "execution_count": null,
      "outputs": []
    }
  ]
}